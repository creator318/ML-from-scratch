{
 "cells": [
  {
   "cell_type": "markdown",
   "metadata": {},
   "source": [
    "# K-Means from scratch using numpy"
   ]
  },
  {
   "cell_type": "markdown",
   "metadata": {},
   "source": [
    "Unsupervised learning method used for clustering of data.  \n",
    "\n",
    "$\\text{Centroid}_i$ = $\\dfrac {\\sum X_j} {n} : X_j \\in \\text{Cluster}_i$  \n",
    "$X$ represents the coordinates of the data points.  \n",
    "\n",
    "Steps:\n",
    " - Initialize Centroids randomly\n",
    " - Assign cluster as per nearest ccentroid\n",
    " - Update centroids as per cluster data points\n",
    " - Repeat last 2 steps until centroids are converged"
   ]
  },
  {
   "cell_type": "code",
   "execution_count": null,
   "metadata": {},
   "outputs": [],
   "source": [
    "import numpy as np\n",
    "import matplotlib.pyplot as plt"
   ]
  },
  {
   "cell_type": "code",
   "execution_count": null,
   "metadata": {},
   "outputs": [],
   "source": [
    "def euclideanDistance(x1, x2):\n",
    "  return np.sqrt(np.sum(x1-x2)**2)"
   ]
  },
  {
   "cell_type": "code",
   "execution_count": null,
   "metadata": {},
   "outputs": [],
   "source": [
    "class KMeans:\n",
    "  def __init__(self, k=5, maxIters=100, plotSteps=False):\n",
    "    self.k = k\n",
    "    self.maxIters = maxIters\n",
    "    self.plotSteps = plotSteps\n",
    "\n",
    "    self.clusters = [[] for _ in range(k)]\n",
    "    self.centroids = []\n",
    "\n",
    "  def predict(self, X):\n",
    "    self.X = X\n",
    "    self.nSamples, self.nFeatures = X.shape\n",
    "\n",
    "    np.random.seed(5)\n",
    "    sampleIdxs = np.random.choice(self.nSamples, self.k, replace=False)\n",
    "    self.centroids = [self.X[idx] for idx in sampleIdxs]\n",
    "\n",
    "    oldCentroids = None\n",
    "    for _ in range(self.maxIters):\n",
    "      self._createClusters()\n",
    "\n",
    "      if self.plotSteps:\n",
    "        self._plotSteps(oldCentroids)\n",
    "\n",
    "      oldCentroids = np.copy(self.centroids)\n",
    "      self._getCentroids()\n",
    "\n",
    "      if self._isConverged(oldCentroids):\n",
    "        break\n",
    "\n",
    "    return self._getClusterLabels()\n",
    "\n",
    "  def _createClusters(self):\n",
    "    for idx, sample in enumerate(self.X):\n",
    "      centroidIdx = self._closestCentroid(sample)\n",
    "      self.clusters[centroidIdx].append(idx)\n",
    "\n",
    "  def _closestCentroid(self, sample):\n",
    "    distances = [euclideanDistance(point, sample) for point in self.centroids]\n",
    "    closestIdx = np.argmin(distances)\n",
    "    return closestIdx\n",
    "\n",
    "  def _getCentroids(self):\n",
    "    self.centroids = np.random.randn(self.k, self.nFeatures)\n",
    "    for idx, cluster in enumerate(self.clusters):\n",
    "      centroid = np.mean(self.X[cluster], axis=0)\n",
    "      self.centroids[idx] = centroid\n",
    "\n",
    "  def _isConverged(self, oldCentroids):\n",
    "    distances = [euclideanDistance(\n",
    "        oldCentroids[i], self.centroids[i]) for i in range(self.k)]\n",
    "    return np.allclose(distances, 0, atol=10e-3)\n",
    "\n",
    "  def _getClusterLabels(self):\n",
    "    labels = np.empty(self.nSamples)\n",
    "    for idx, cluster in enumerate(self.clusters):\n",
    "      for sampleIdx in cluster:\n",
    "        labels[sampleIdx] = idx\n",
    "\n",
    "    return labels\n",
    "\n",
    "  def _plotSteps(self, oldCentroids=None):\n",
    "    fig, ax = plt.subplots()\n",
    "\n",
    "    for i, cluster in enumerate(self.clusters):\n",
    "      point = self.X[cluster].T\n",
    "      ax.scatter(*point)\n",
    "\n",
    "    if oldCentroids is not None:\n",
    "      for point in oldCentroids:\n",
    "        ax.scatter(*point, marker='+', color=\"lime\", linewidth=2)\n",
    "\n",
    "    for point in self.centroids:\n",
    "      ax.scatter(*point, marker='x', color=\"black\", linewidth=2)\n",
    "\n",
    "    plt.show()\n",
    "    plt.close(fig)"
   ]
  },
  {
   "cell_type": "code",
   "execution_count": null,
   "metadata": {},
   "outputs": [],
   "source": [
    "from sklearn import datasets\n",
    "\n",
    "X, y = datasets.make_blobs(centers=3, n_samples=500,\n",
    "                           n_features=2, shuffle=True, random_state=40)\n",
    "\n",
    "classifier = KMeans(k=3, maxIters=20, plotSteps=True)\n",
    "predictions = classifier.predict(X)"
   ]
  }
 ],
 "metadata": {
  "kernelspec": {
   "display_name": ".venv (3.13.2)",
   "language": "python",
   "name": "python3"
  },
  "language_info": {
   "codemirror_mode": {
    "name": "ipython",
    "version": 3
   },
   "file_extension": ".py",
   "mimetype": "text/x-python",
   "name": "python",
   "nbconvert_exporter": "python",
   "pygments_lexer": "ipython3",
   "version": "3.13.2"
  }
 },
 "nbformat": 4,
 "nbformat_minor": 2
}
