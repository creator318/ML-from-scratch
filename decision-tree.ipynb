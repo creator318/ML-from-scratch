{
 "cells": [
  {
   "cell_type": "markdown",
   "metadata": {},
   "source": [
    "# Decision tree from scratch using numpy"
   ]
  },
  {
   "cell_type": "markdown",
   "metadata": {},
   "source": [
    "### Information Gain $IG = I(parent) - wt.avg \\big( I(child) \\big)$   \n",
    "Info $I$ can either be represented by Entropy or GINI where:  \n",
    " - Entropy $E(x) = - \\sum{ p(x) - \\log_2 \\big( p(x) \\big) }$  \n",
    " - GINI $G(x) = 1 - \\sum{ p(x)^2 }$  \n",
    "Where $p(x) = \\dfrac{\\#x}n$  \n",
    "  \n",
    "Stopping Criteria: max depth, min samples, min impurity decrease"
   ]
  },
  {
   "cell_type": "code",
   "execution_count": 1,
   "metadata": {},
   "outputs": [],
   "source": [
    "import numpy as np\n",
    "from collections import Counter"
   ]
  },
  {
   "cell_type": "code",
   "execution_count": 2,
   "metadata": {},
   "outputs": [],
   "source": [
    "class Node:\n",
    "  def __init__(\n",
    "      self, feature=None, threshold=None, left=None, right=None, *, value=None\n",
    "  ):\n",
    "    self.feature = feature\n",
    "    self.threshold = threshold\n",
    "    self.left = left\n",
    "    self.right = right\n",
    "    self.value = value\n",
    "\n",
    "  def isLeafNode(self):\n",
    "    return self.value is not None"
   ]
  },
  {
   "cell_type": "code",
   "execution_count": 3,
   "metadata": {},
   "outputs": [],
   "source": [
    "\n",
    "class DecisionTree:\n",
    "  def __init__(self, minSampleSplit=2, maxDepth=100, nFeatures=None):\n",
    "    self.minSampleSplit = minSampleSplit\n",
    "    self.maxDepth = maxDepth\n",
    "    self.nFeatures = nFeatures\n",
    "    self.root = None\n",
    "\n",
    "  def fit(self, X, y):\n",
    "    self.nFeatures = (\n",
    "        X.shape[1] if not self.nFeatures else min(\n",
    "            X.shape[1], self.nFeatures)\n",
    "    )\n",
    "    self.root = self._growTree(X, y)\n",
    "\n",
    "  def _growTree(self, X, y, depth=0):\n",
    "    nSamples, nFeatures = X.shape\n",
    "    nLabels = len(np.unique(y))\n",
    "\n",
    "    if depth >= self.maxDepth or nLabels == 1 or nSamples < self.minSampleSplit:\n",
    "      value = self._mostCommonLabel(y)\n",
    "      return Node(value=value)\n",
    "\n",
    "    featureIdxs = np.random.choice(\n",
    "        nFeatures, self.nFeatures, replace=False)\n",
    "    bestThreshold, bestIdx = self._bestSplit(X, y, featureIdxs)\n",
    "\n",
    "    leftIdxs, rightIdxs = self._split(X[:, bestIdx], bestThreshold)\n",
    "    left = self._growTree(X[leftIdxs, :], y[leftIdxs], depth + 1)\n",
    "    right = self._growTree(X[rightIdxs, :], y[rightIdxs], depth + 1)\n",
    "\n",
    "    return Node(bestIdx, bestThreshold, left, right)\n",
    "\n",
    "  def _mostCommonLabel(self, y):\n",
    "    counter = Counter(y)\n",
    "    return counter.most_common(1)[0][0]\n",
    "\n",
    "  def _bestSplit(self, X, y, featureIdxs):\n",
    "    bestGain = -1\n",
    "    splitIdx, splitThreshold = None, None\n",
    "\n",
    "    for idx in featureIdxs:\n",
    "      Xcol = X[:, idx]\n",
    "      thresholds = np.unique(Xcol)\n",
    "\n",
    "      for thr in thresholds:\n",
    "        gain = self._informationGain(y, Xcol, thr)\n",
    "\n",
    "        if gain > bestGain:\n",
    "          bestGain = gain\n",
    "          splitIdx = idx\n",
    "          splitThreshold = thr\n",
    "\n",
    "    return splitThreshold, splitIdx\n",
    "\n",
    "  def _informationGain(self, y, Xcol, threshold):\n",
    "    # parentInfo = self.entropy(y)\n",
    "    parentInfo = self._gini(y)\n",
    "\n",
    "    leftIdxs, rightIdxs = self._split(Xcol, threshold)\n",
    "\n",
    "    if len(leftIdxs) == 0 or len(rightIdxs) == 0:\n",
    "      return 0\n",
    "\n",
    "    n = len(y)\n",
    "    nL, nR = len(leftIdxs), len(rightIdxs)\n",
    "    # iL, iR = self.entropy(y[leftIdx]), self.entropy(y[rightIdx])\n",
    "    iL, iR = self._gini(y[leftIdxs]), self._gini(y[rightIdxs])\n",
    "\n",
    "    childInfo = (nL / n) * iL + (nR / n) * iR\n",
    "\n",
    "    informationGain = parentInfo - childInfo\n",
    "    return informationGain\n",
    "\n",
    "  def _entropy(self, y):\n",
    "    ps = np.bincount(y) / len(y)\n",
    "    entropy = -np.sum([p * np.log(p) for p in ps if p > 0])\n",
    "    return entropy\n",
    "\n",
    "  def _gini(self, y):\n",
    "    ps = np.bincount(y) / len(y)\n",
    "    impurity = 1 - np.sum(ps**2)\n",
    "    return impurity\n",
    "\n",
    "  def _split(self, Xcol, splitThreshold):\n",
    "    leftIdxs = np.argwhere(Xcol <= splitThreshold).flatten()\n",
    "    rightIdxs = np.argwhere(Xcol > splitThreshold).flatten()\n",
    "    return leftIdxs, rightIdxs\n",
    "\n",
    "  def predict(self, X):\n",
    "    return np.array([self._traverseTree(x, self.root) for x in X])\n",
    "\n",
    "  def _traverseTree(self, x, node: Node):\n",
    "    if node.isLeafNode():\n",
    "      return node.value\n",
    "\n",
    "    if x[node.feature] <= node.threshold:\n",
    "      return self._traverseTree(x, node.left)\n",
    "    return self._traverseTree(x, node.right)"
   ]
  },
  {
   "cell_type": "code",
   "execution_count": 4,
   "metadata": {},
   "outputs": [],
   "source": [
    "from sklearn import datasets\n",
    "from sklearn.model_selection import train_test_split\n",
    "\n",
    "breastCancer = datasets.load_breast_cancer()\n",
    "X, y = breastCancer.data, breastCancer.target\n",
    "\n",
    "XTrain, XTest, YTrain, YTest = train_test_split(\n",
    "    X, y, test_size=0.2, random_state=0)\n",
    "\n",
    "classifier = DecisionTree()\n",
    "classifier.fit(XTrain, YTrain)\n",
    "predictions = classifier.predict(XTest)\n",
    "\n",
    "\n",
    "def accuracy(yTest, yPred):\n",
    "  return np.sum(yTest == yPred) / len(yTest)\n",
    "\n",
    "\n",
    "acc = accuracy(YTest, predictions)"
   ]
  },
  {
   "cell_type": "code",
   "execution_count": 5,
   "metadata": {},
   "outputs": [
    {
     "data": {
      "text/plain": [
       "np.float64(0.9122807017543859)"
      ]
     },
     "execution_count": 5,
     "metadata": {},
     "output_type": "execute_result"
    }
   ],
   "source": [
    "acc"
   ]
  }
 ],
 "metadata": {
  "kernelspec": {
   "display_name": ".venv (3.13.2)",
   "language": "python",
   "name": "python3"
  },
  "language_info": {
   "codemirror_mode": {
    "name": "ipython",
    "version": 3
   },
   "file_extension": ".py",
   "mimetype": "text/x-python",
   "name": "python",
   "nbconvert_exporter": "python",
   "pygments_lexer": "ipython3",
   "version": "3.13.2"
  }
 },
 "nbformat": 4,
 "nbformat_minor": 2
}
