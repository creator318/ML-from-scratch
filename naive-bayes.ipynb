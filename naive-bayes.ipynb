{
 "cells": [
  {
   "cell_type": "markdown",
   "metadata": {},
   "source": [
    "# Naive Bayes from scratch using numpy"
   ]
  },
  {
   "cell_type": "markdown",
   "metadata": {},
   "source": [
    "### Bayes Theorem = $P(A|B) = \\frac {P(B|A) \\cdot P(B)} {P(A)}$\n",
    "\n",
    "$P(y|X) = \\dfrac {P(X|y) \\cdot P(y)} {P(X)} = \\dfrac {\\prod P(x_i|y) \\cdot P(y)} {P(X)}$\n",
    "\n",
    "Where:\n",
    " - $P(A)$ is the probability of $A$ occurring\n",
    " - $P(A|B)$ is the conditional probability of $A$ occuring given that B has occurred\n",
    "\n",
    "Naive refers to the fact that it assumes the data features to be independent and mutually exclusive.\n",
    "\n",
    "### Classification result = Class with highest posterior probability\n",
    "\n",
    "$y = argmax_y(P(y|X)) \\approx argmax_y(\\prod P(x_i|y) \\cdot P(y))$  \n",
    "$\\because P(X)$ does not depend on $y$\n",
    "\n",
    "Since values in the above expression are very small, we use log of these values.  \n",
    "$y = argmax_y(\\sum log(P(x_i|y)) + log(P(y)))$\n",
    "  \n",
    "- $P(y)$ = Prior Probability = Frequency of each class\n",
    "- $P(x_i|y)$ = Posterior = Class Conditional Probability = Gaussian Model = $\\dfrac 1 {\\sqrt {2 \\pi \\sigma_y^2}} \\cdot e^{- \\bigg(\\dfrac {(x_i - \\mu_y)^2} {2 \\sigma_y^2}\\bigg)}$"
   ]
  },
  {
   "cell_type": "code",
   "execution_count": null,
   "metadata": {},
   "outputs": [],
   "source": [
    "import numpy as np"
   ]
  },
  {
   "cell_type": "code",
   "execution_count": null,
   "metadata": {},
   "outputs": [],
   "source": [
    "class NaiveBayes:\n",
    "  def fit(self, X, y):\n",
    "    nSamples, nFeatures = X.shape\n",
    "    self._classes = np.unique(y)\n",
    "    nClasses = len(self._classes)\n",
    "\n",
    "    self._mean = np.zeros((nClasses, nFeatures))\n",
    "    self._var = np.zeros((nClasses, nFeatures))\n",
    "    self._priors = np.zeros(nClasses)\n",
    "\n",
    "    for idx, _class in enumerate(self._classes):\n",
    "      X_c = X[y == _class]\n",
    "      self._mean[idx, :] = X_c.mean(axis=0)\n",
    "      self._var[idx, :] = X_c.var(axis=0)\n",
    "      self._priors[idx] = X_c.shape[0] / float(nSamples)\n",
    "\n",
    "  def predct(self, X):\n",
    "    yPred = [self._predict(x) for x in X]\n",
    "    return yPred\n",
    "\n",
    "  def _predict(self, x):\n",
    "    posteriors = []\n",
    "\n",
    "    for idx in range(len(self._classes)):\n",
    "      prior = np.log(self._priors[idx])\n",
    "      posterior = np.sum(np.log(self._pdf(idx, x)))\n",
    "      posteriors.append(posterior + prior)\n",
    "\n",
    "    return self._classes[np.argmax(posteriors)]\n",
    "\n",
    "  def _pdf(self, idx, x):\n",
    "    mean, var = self._mean[idx], self._var[idx]\n",
    "    return np.exp(-((x-mean)**2 / (2*var))) / np.sqrt(2*np.pi*var)"
   ]
  },
  {
   "cell_type": "code",
   "execution_count": null,
   "metadata": {},
   "outputs": [],
   "source": [
    "from sklearn import datasets\n",
    "from sklearn.model_selection import train_test_split\n",
    "\n",
    "X, y = datasets.make_classification(\n",
    "    n_samples=1000, n_features=10, n_classes=2, random_state=0)\n",
    "\n",
    "XTrain, XTest, YTrain, YTest = train_test_split(\n",
    "    X, y, test_size=0.2, random_state=0)\n",
    "\n",
    "classifier = NaiveBayes()\n",
    "classifier.fit(XTrain, YTrain)\n",
    "predictions = classifier.predct(XTest)\n",
    "\n",
    "\n",
    "def accuracy(yTest, yPred):\n",
    "  return np.sum(yTest == yPred) / len(yTest)\n",
    "\n",
    "\n",
    "acc = accuracy(YTest, predictions)"
   ]
  },
  {
   "cell_type": "code",
   "execution_count": null,
   "metadata": {},
   "outputs": [],
   "source": [
    "acc"
   ]
  }
 ],
 "metadata": {
  "kernelspec": {
   "display_name": ".venv (3.13.2)",
   "language": "python",
   "name": "python3"
  },
  "language_info": {
   "codemirror_mode": {
    "name": "ipython",
    "version": 3
   },
   "file_extension": ".py",
   "mimetype": "text/x-python",
   "name": "python",
   "nbconvert_exporter": "python",
   "pygments_lexer": "ipython3",
   "version": "3.13.2"
  }
 },
 "nbformat": 4,
 "nbformat_minor": 2
}
