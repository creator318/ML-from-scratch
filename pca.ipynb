{
 "cells": [
  {
   "cell_type": "markdown",
   "metadata": {},
   "source": [
    "# Principal Component Analysis from scratch using numpy  "
   ]
  },
  {
   "cell_type": "markdown",
   "metadata": {},
   "source": [
    "Unsupervised learning method used for dimensionality reduction of dataset.  \n",
    "  \n",
    "Goal: \n",
    " - Find a set of dimensions (orthogonal, linearly independent) \n",
    " - Ranked according to variance of data along them \n",
    " - Select the most relevant ones that reduce the projection error\n",
    " - Projected points should have maximum variance\n",
    "\n",
    "Covariance Matrix = $Cov(X, Y) = \\dfrac 1 n \\sum {(X_i - \\bar X)(Y_i - \\bar Y)^T}$\n",
    "\n",
    "Calculate:\n",
    " - Eigen vectors of $Cov(X, X)$, pointing in the direction of maximum variance  \n",
    " - Eigen values representing their corresponding importance\n",
    " \n",
    "$A \\tilde v = \\lambda \\tilde v$"
   ]
  },
  {
   "cell_type": "code",
   "execution_count": null,
   "metadata": {},
   "outputs": [],
   "source": [
    "import numpy as np"
   ]
  },
  {
   "cell_type": "code",
   "execution_count": null,
   "metadata": {},
   "outputs": [],
   "source": [
    "class PCA:\n",
    "  def __init__(self, nComponents):\n",
    "    self.nComponents = nComponents\n",
    "\n",
    "  def fit(self, X):\n",
    "    self.mean = np.mean(X, axis=0)\n",
    "    X -= self.mean\n",
    "\n",
    "    cov = np.cov(X.T)\n",
    "\n",
    "    eigenvectors, eigenvalues = np.linalg.eig(cov)\n",
    "    eigenvectors = eigenvectors.T\n",
    "\n",
    "    idxs = np.argsort(eigenvalues)[::-1]\n",
    "    eigenvalues, eigenvectors = eigenvalues[idxs], eigenvectors[idxs]\n",
    "\n",
    "    self.components = eigenvectors[:self.nComponents]\n",
    "\n",
    "  def transform(self, X):\n",
    "    X -= self.mean\n",
    "    return np.dot(X, self.components.T)"
   ]
  },
  {
   "cell_type": "code",
   "execution_count": null,
   "metadata": {},
   "outputs": [],
   "source": [
    "from sklearn import datasets\n",
    "\n",
    "iris = datasets.load_iris()\n",
    "X, y = iris.data, iris.target\n",
    "\n",
    "pca = PCA(nComponents=2)\n",
    "pca.fit(X)\n",
    "XProjection = pca.transform(X)\n",
    "\n",
    "print(\"Shape of X\", X.shape)\n",
    "print(\"Shape of transformed X\", XProjection.shape)"
   ]
  },
  {
   "cell_type": "code",
   "execution_count": null,
   "metadata": {},
   "outputs": [],
   "source": [
    "from matplotlib import pyplot as plt\n",
    "\n",
    "x1, x2 = XProjection[:, 0], XProjection[:, 1]\n",
    "\n",
    "plt.scatter(x1, x2, c=y, alpha=0.8, cmap=plt.get_cmap(\"viridis\"))\n",
    "plt.xlabel(\"PC1\")\n",
    "plt.ylabel(\"PC2\")\n",
    "plt.show()"
   ]
  }
 ],
 "metadata": {
  "kernelspec": {
   "display_name": ".venv (3.13.2)",
   "language": "python",
   "name": "python3"
  },
  "language_info": {
   "codemirror_mode": {
    "name": "ipython",
    "version": 3
   },
   "file_extension": ".py",
   "mimetype": "text/x-python",
   "name": "python",
   "nbconvert_exporter": "python",
   "pygments_lexer": "ipython3",
   "version": "3.13.2"
  }
 },
 "nbformat": 4,
 "nbformat_minor": 2
}
