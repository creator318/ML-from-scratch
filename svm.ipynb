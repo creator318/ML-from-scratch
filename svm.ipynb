{
 "cells": [
  {
   "cell_type": "markdown",
   "metadata": {},
   "source": [
    "# Support Vector Machine (SVM) from scratch using numpy"
   ]
  },
  {
   "cell_type": "markdown",
   "metadata": {},
   "source": [
    "Hinge loss:  \n",
    " - $max(0, 1 - y_i \\sdot (w \\sdot x_i - b))$  \n",
    "  \n",
    "Regularization term:  \n",
    " - $J = \\lambda \\|w\\|^2 + \\frac{1}{n} \\sdot max(0, 1 - y_i \\sdot (w \\sdot x_i-b))$  \n",
    "  \n",
    "### Gradients:  \n",
    " - $\\dfrac{dJ_i}{dw_k} = \\begin{cases} 2 \\lambda w_i &  \\text{if } y_i \\sdot f(x) \\ge 1 \\\\ 2 \\lambda w_k - y_i \\sdot x_{ik} & \\text{otherwise } \\end{cases}$\n",
    " - $\\dfrac{dJ_i}{db} = \\begin{cases} 0 & \\text{if } y_i \\sdot f(x) \\ge 1 \\\\ y_i & \\text{otherwise } \\end{cases}$\n",
    "\n",
    "### Update rule:\n",
    " - $\\large{ w = w - \\alpha \\sdot dw }$\n",
    " - $\\large{ b = b - \\alpha \\sdot db }$"
   ]
  },
  {
   "cell_type": "code",
   "execution_count": 3,
   "metadata": {},
   "outputs": [],
   "source": [
    "import numpy as np"
   ]
  },
  {
   "cell_type": "code",
   "execution_count": 4,
   "metadata": {},
   "outputs": [],
   "source": [
    "class SVM:\n",
    "  def __init__(self, alpha=0.001, lamda=0.01, epochs=1000):\n",
    "    self.alpha = alpha\n",
    "    self.lamda = lamda\n",
    "    self.epochs = epochs\n",
    "    self.w = None\n",
    "    self.b = None\n",
    "\n",
    "  def fit(self, X, y):\n",
    "    nSamples, nFeatures = X.shape\n",
    "\n",
    "    y = np.where(y <= 0, -1, 1)\n",
    "\n",
    "    self.w = np.random.randn(nFeatures)\n",
    "    self.b = np.random.random()\n",
    "\n",
    "    for _ in range(self.epochs):\n",
    "      for idx, xI in enumerate(X):\n",
    "        condition = y[idx] * (np.dot(xI, self.w) - self.b) >= 1\n",
    "        if condition:\n",
    "          self.w -= self.alpha * 2 * self.lamda * self.w\n",
    "        else:\n",
    "          self.w -= self.alpha * 2 * self.lamda * self.w - np.dot(xI, y[idx])\n",
    "          self.b -= self.alpha * y[idx]\n",
    "\n",
    "  def predict(self, X):\n",
    "    approx = np.dot(X, self.w) - self.b\n",
    "    return np.sign(approx)"
   ]
  },
  {
   "cell_type": "code",
   "execution_count": 5,
   "metadata": {},
   "outputs": [],
   "source": [
    "from sklearn.model_selection import train_test_split\n",
    "from sklearn import datasets\n",
    "\n",
    "X, y = datasets.make_blobs(\n",
    "    n_samples=500, n_features=2, centers=2, cluster_std=1.05, random_state=0)\n",
    "\n",
    "y = np.where(y == 0, -1, 1)\n",
    "\n",
    "XTrain, XTest, YTrain, YTest = train_test_split(\n",
    "    X, y, test_size=0.2, random_state=0)\n",
    "\n",
    "classifier = SVM()\n",
    "classifier.fit(XTrain, YTrain)\n",
    "predictions = classifier.predict(XTest)\n",
    "\n",
    "\n",
    "def accuracy(yTest, yPred):\n",
    "  return np.sum(yTest == yPred) / len(yTest)\n",
    "\n",
    "\n",
    "acc = accuracy(YTest, predictions)"
   ]
  },
  {
   "cell_type": "code",
   "execution_count": 6,
   "metadata": {},
   "outputs": [
    {
     "data": {
      "text/plain": [
       "np.float64(0.94)"
      ]
     },
     "execution_count": 6,
     "metadata": {},
     "output_type": "execute_result"
    }
   ],
   "source": [
    "acc"
   ]
  }
 ],
 "metadata": {
  "kernelspec": {
   "display_name": ".venv (3.13.2)",
   "language": "python",
   "name": "python3"
  },
  "language_info": {
   "codemirror_mode": {
    "name": "ipython",
    "version": 3
   },
   "file_extension": ".py",
   "mimetype": "text/x-python",
   "name": "python",
   "nbconvert_exporter": "python",
   "pygments_lexer": "ipython3",
   "version": "3.13.2"
  }
 },
 "nbformat": 4,
 "nbformat_minor": 2
}
