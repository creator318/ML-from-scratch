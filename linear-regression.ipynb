{
 "cells": [
  {
   "cell_type": "markdown",
   "metadata": {},
   "source": [
    "# Linear Regression from scratch using numpy"
   ]
  },
  {
   "cell_type": "markdown",
   "metadata": {},
   "source": [
    "### Estimation = $\\hat y = wx+b$\n",
    "\n",
    "Error = $\\text{MSE} = J(w, b) = \\dfrac 1 n \\displaystyle \\sum_{i=1}^n{(y_i - (wx_i +b))^2}$\n",
    " - Derivative of error $J'(w, b) = \\begin{bmatrix} \\dfrac{dJ}{dw} \\\\ \\\\ \\dfrac{dJ}{db} \\end{bmatrix} = \\begin{bmatrix} \\dfrac 1 n \\sum{-2x_i (y_i - (wx_i + b))} \\\\ \\\\ \\dfrac 1 n \\sum{-2 (y_i - (wx_i + b))} \\end{bmatrix}$\n",
    "\n",
    "Gradient descent\n",
    " - $w = w - \\alpha \\cdot dw$\n",
    " - $b = b - \\alpha \\cdot db$"
   ]
  },
  {
   "cell_type": "code",
   "execution_count": 1,
   "metadata": {},
   "outputs": [],
   "source": [
    "import numpy as np"
   ]
  },
  {
   "cell_type": "code",
   "execution_count": 8,
   "metadata": {},
   "outputs": [],
   "source": [
    "class LinearRegression():\n",
    "  def __init__(self, alpha=0.001, epochs=1000):\n",
    "    self.alpha = alpha\n",
    "    self.epochs = epochs\n",
    "    self.w = None\n",
    "    self.b = None\n",
    "\n",
    "  def fit(self, X, y):\n",
    "    nSamples, nFeatures = X.shape\n",
    "    self.w = np.random.randn(nFeatures)\n",
    "    self.b = np.random.random()\n",
    "\n",
    "    for _ in range(self.epochs):\n",
    "      yPred = np.dot(X, self.w) + self.b\n",
    "      dw = (1/nSamples) * np.dot(X.T, (yPred - y))\n",
    "      db = (1/nSamples) * np.sum(yPred - y)\n",
    "      self.w -= self.alpha * dw\n",
    "      self.b -= self.alpha * db\n",
    "\n",
    "  def predict(self, X):\n",
    "    yPred = np.dot(X, self.w) + self.b\n",
    "    return yPred"
   ]
  },
  {
   "cell_type": "code",
   "execution_count": 21,
   "metadata": {},
   "outputs": [],
   "source": [
    "from sklearn.model_selection import train_test_split\n",
    "from sklearn import datasets\n",
    "\n",
    "X, y = datasets.make_regression(\n",
    "    n_samples=100, n_features=1, noise=20, random_state=0)\n",
    "\n",
    "XTrain, XTest, YTrain, YTest = train_test_split(\n",
    "    X, y, test_size=0.2, random_state=0)\n",
    "\n",
    "regressor = LinearRegression(alpha=0.01)\n",
    "regressor.fit(XTrain, YTrain)\n",
    "predictions = regressor.predict(XTest)\n",
    "\n",
    "\n",
    "def mse(yTest, yPred):\n",
    "  return np.mean((yTest-yPred)**2)\n",
    "\n",
    "\n",
    "err = mse(YTest, predictions)"
   ]
  },
  {
   "cell_type": "code",
   "execution_count": 22,
   "metadata": {},
   "outputs": [
    {
     "data": {
      "text/plain": [
       "np.float64(388.5861120009682)"
      ]
     },
     "execution_count": 22,
     "metadata": {},
     "output_type": "execute_result"
    }
   ],
   "source": [
    "err"
   ]
  },
  {
   "cell_type": "code",
   "execution_count": null,
   "metadata": {},
   "outputs": [],
   "source": [
    "from matplotlib import pyplot as plt\n",
    "\n",
    "plt.figure()\n",
    "plt.scatter(X[:, 0], y, color='b', marker='o', s=30)\n",
    "plt.show()"
   ]
  },
  {
   "cell_type": "code",
   "execution_count": null,
   "metadata": {},
   "outputs": [],
   "source": [
    "from matplotlib import pyplot as plt\n",
    "\n",
    "line = regressor.predict(X)\n",
    "cmap = plt.get_cmap('viridis')\n",
    "\n",
    "plt.figure()\n",
    "plt.scatter(XTrain, YTrain, color=cmap(0.9), s=10)\n",
    "plt.scatter(XTest, YTest, color=cmap(0.5), s=10)\n",
    "plt.plot(X, line, color='k', label=\"Prediction\")\n",
    "plt.show()"
   ]
  }
 ],
 "metadata": {
  "kernelspec": {
   "display_name": ".venv",
   "language": "python",
   "name": "python3"
  },
  "language_info": {
   "codemirror_mode": {
    "name": "ipython",
    "version": 3
   },
   "file_extension": ".py",
   "mimetype": "text/x-python",
   "name": "python",
   "nbconvert_exporter": "python",
   "pygments_lexer": "ipython3",
   "version": "3.13.1"
  }
 },
 "nbformat": 4,
 "nbformat_minor": 2
}
